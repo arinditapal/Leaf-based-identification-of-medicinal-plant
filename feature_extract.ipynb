{
 "cells": [
  {
   "cell_type": "code",
   "execution_count": 9,
   "id": "8215f189",
   "metadata": {},
   "outputs": [],
   "source": [
    "import cv2\n",
    "import json\n",
    "import os\n",
    "import numpy as np\n",
    "from sklearn.cluster import KMeans"
   ]
  },
  {
   "cell_type": "code",
   "execution_count": 3,
   "id": "6b066a59",
   "metadata": {},
   "outputs": [
    {
     "name": "stdout",
     "output_type": "stream",
     "text": [
      "mint\n",
      "healthy_apple_mint\n",
      "healthy_chocolate_mint\n",
      "healthy_pepper_mint\n",
      "healthy_pineapple_mint\n",
      "non-mint\n",
      "non_mint\n",
      "{0: 'mint', 1: 'healthy_apple_mint', 2: 'healthy_chocolate_mint', 3: 'healthy_pepper_mint', 4: 'healthy_pineapple_mint', 5: 'non-mint', 6: 'non_mint'}\n"
     ]
    }
   ],
   "source": [
    "dataset_path = \"./dataset/dataset-1\"\n",
    "dataset_folder = os.listdir(dataset_path)\n",
    "\n",
    "anno_file_name = dataset_folder[1]\n",
    "\n",
    "with open(f\"{dataset_path}/\" + anno_file_name, \"r\") as file:\n",
    "    anno_file_content = json.load(file)\n",
    "\n",
    "# print(anno_file_content[\"categories\"])\n",
    "\n",
    "# class map is a mapping that maps class to a unique number\n",
    "class_map = {}\n",
    "for category_info in anno_file_content[\"categories\"]:\n",
    "    print(category_info[\"name\"])\n",
    "    class_map[category_info[\"id\"]] = category_info[\"name\"]\n",
    "\n",
    "print(class_map)"
   ]
  },
  {
   "cell_type": "code",
   "execution_count": 4,
   "id": "3a171fb1",
   "metadata": {},
   "outputs": [
    {
     "name": "stdout",
     "output_type": "stream",
     "text": [
      "dict_keys(['info', 'licenses', 'categories', 'images', 'annotations'])\n"
     ]
    }
   ],
   "source": [
    "print(anno_file_content.keys())"
   ]
  },
  {
   "cell_type": "code",
   "execution_count": 5,
   "id": "d5bfea95",
   "metadata": {},
   "outputs": [],
   "source": [
    "def show_image(image, message):\n",
    "    cv2.imshow(\"first image\", image)\n",
    "    cv2.waitKey()\n",
    "    cv2.destroyAllWindows()"
   ]
  },
  {
   "cell_type": "code",
   "execution_count": 6,
   "id": "21727487",
   "metadata": {},
   "outputs": [],
   "source": [
    "# image address map\n",
    "# will map the address of an image to a unique number\n",
    "image_address_map = {}\n",
    "\n",
    "for image_info in anno_file_content[\"images\"]:\n",
    "    image_path = dataset_path + \"/images/\" + image_info[\"file_name\"]\n",
    "    image_address_map[image_info[\"id\"]] = image_path\n"
   ]
  },
  {
   "cell_type": "code",
   "execution_count": null,
   "id": "2c25dfbe",
   "metadata": {},
   "outputs": [],
   "source": [
    "# class map\n",
    "# image address map\n",
    "\n",
    "\n",
    "# every annotation in the annotations list is an object( in our case a leaf ), and it has info about what image \n",
    "# the object came from and what is its class\n",
    "# the image address map will be used here to get the address of the image from image_id and fetch the image\n",
    "# class_id will be used to give label to the object( leaf ) detect in the feature vector\n",
    "# segmentations variable stores the x and y coordinate of points on the polygon that surrounds the object\n",
    "\n",
    "\n",
    "\n",
    "for object_annotation in anno_file_content[\"annotations\"]:\n",
    "    image_address_id = object_annotation[\"image_id\"]\n",
    "    segmentations = object_annotation[\"segmentation\"]\n",
    "    class_id = object_annotation[\"category_id\"]\n",
    "    image_address = image_address_map[image_address_id]\n",
    "\n",
    "    image = cv2.imread(image_address)\n",
    "\n",
    "    show_image(image, \"image\")\n",
    "\n",
    "    # now we try to segment the object from the rest of the image using the point stored in segmentations\n",
    "    \n",
    "    points = np.array(segmentations, dtype=np.int32).reshape(-1, 2)\n",
    "\n",
    "    # initial_mask is the mask on the polygon \n",
    "    initial_mask = np.zeros(image.shape[:2], dtype=np.uint8)\n",
    "\n",
    "\n",
    "    # fillPoly will fill the inside of the polygon with white color\n",
    "    cv2.fillPoly(initial_mask, [points], 255)\n",
    "\n",
    "    # anno_object stores the annotation polygon superimposed on the image\n",
    "    anno_object = cv2.bitwise_and(image, image, mask=initial_mask)\n",
    "\n",
    "    \n",
    "    # preprocessing on the anno_object to isolate the leaf part\n",
    "    \n",
    "\n",
    "    break\n",
    "\n"
   ]
  },
  {
   "cell_type": "code",
   "execution_count": null,
   "id": "5b434c4a",
   "metadata": {},
   "outputs": [],
   "source": []
  }
 ],
 "metadata": {
  "kernelspec": {
   "display_name": ".venv",
   "language": "python",
   "name": "python3"
  },
  "language_info": {
   "codemirror_mode": {
    "name": "ipython",
    "version": 3
   },
   "file_extension": ".py",
   "mimetype": "text/x-python",
   "name": "python",
   "nbconvert_exporter": "python",
   "pygments_lexer": "ipython3",
   "version": "3.12.5"
  }
 },
 "nbformat": 4,
 "nbformat_minor": 5
}
